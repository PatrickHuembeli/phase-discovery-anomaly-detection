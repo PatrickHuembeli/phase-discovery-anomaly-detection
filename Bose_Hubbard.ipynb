{
 "cells": [
  {
   "cell_type": "markdown",
   "metadata": {},
   "source": [
    "prerequisites:  \n",
    "tenpy: https://tenpy.github.io/INSTALL.html  \n",
    "tensorflow: https://www.tensorflow.org/install  "
   ]
  },
  {
   "cell_type": "code",
   "execution_count": 1,
   "metadata": {},
   "outputs": [],
   "source": [
    "from AD_tools import *\n",
    "import numpy as np\n",
    "from matplotlib import pyplot as plt\n",
    "from matplotlib.ticker import MaxNLocator\n",
    "from matplotlib.colors import BoundaryNorm\n",
    "import tensorflow as tf\n",
    "from tensorflow.keras.models import Sequential,Model\n",
    "from tensorflow.keras.layers import Input,Dense,Conv2D,Conv1D,MaxPooling2D,MaxPooling1D,UpSampling2D,UpSampling1D,Flatten, Activation, BatchNormalization, GlobalAveragePooling2D,add"
   ]
  },
  {
   "cell_type": "code",
   "execution_count": 2,
   "metadata": {},
   "outputs": [
    {
     "data": {
      "text/plain": [
       "'1.12.0'"
      ]
     },
     "execution_count": 2,
     "metadata": {},
     "output_type": "execute_result"
    }
   ],
   "source": [
    "tf.__version__"
   ]
  },
  {
   "cell_type": "code",
   "execution_count": 3,
   "metadata": {},
   "outputs": [
    {
     "data": {
      "text/plain": [
       "'0.4.1'"
      ]
     },
     "execution_count": 3,
     "metadata": {},
     "output_type": "execute_result"
    }
   ],
   "source": [
    "import tenpy\n",
    "tenpy.__version__"
   ]
  },
  {
   "cell_type": "markdown",
   "metadata": {},
   "source": [
    "# Create data\n",
    "Preferably run on a cluster / external session"
   ]
  },
  {
   "cell_type": "code",
   "execution_count": 4,
   "metadata": {},
   "outputs": [],
   "source": [
    "Vs = np.linspace(0,5,100)"
   ]
  },
  {
   "cell_type": "code",
   "execution_count": 5,
   "metadata": {},
   "outputs": [
    {
     "name": "stdout",
     "output_type": "stream",
     "text": [
      "Initial sweeps...\n",
      "E = -6.0694700912326\n",
      "0:00:31.232757\n",
      "Initial sweeps...\n",
      "E = -5.7045767476760\n",
      "0:00:34.050718\n",
      "Initial sweeps...\n",
      "E = -5.3401870730464\n",
      "0:00:34.298724\n",
      "Initial sweeps...\n",
      "E = -4.9763110539437\n",
      "0:00:34.098505\n",
      "Initial sweeps...\n",
      "E = -4.6129590787029\n",
      "0:00:34.811140\n",
      "Initial sweeps...\n",
      "E = -4.2501419539892\n",
      "0:00:34.117167\n",
      "Initial sweeps...\n",
      "E = -3.8878709262272\n",
      "0:00:34.563705\n",
      "Initial sweeps...\n",
      "E = -3.5261577021729\n",
      "0:00:34.720659\n",
      "Initial sweeps...\n",
      "E = -3.1650144742022\n",
      "0:00:34.614968\n",
      "Initial sweeps...\n",
      "E = -2.8044539413091\n",
      "0:00:34.475068\n",
      "Initial sweeps...\n",
      "E = -2.4444893382511\n",
      "0:00:34.555401\n",
      "Initial sweeps...\n",
      "E = -2.0851344637237\n",
      "0:00:34.711723\n",
      "Initial sweeps...\n",
      "E = -1.7264037111817\n",
      "0:00:34.431499\n",
      "Initial sweeps...\n",
      "E = -1.3683121028578\n",
      "0:00:35.276108\n",
      "Initial sweeps...\n",
      "E = -1.0108753225437\n",
      "0:00:35.175593\n",
      "Initial sweeps...\n",
      "E = -0.6541097568645\n",
      "0:00:35.428429\n",
      "Initial sweeps...\n",
      "E = -0.2980325352883\n",
      "0:00:35.578228\n",
      "Initial sweeps...\n",
      "E = 0.0573384251874\n",
      "0:00:35.902029\n",
      "Initial sweeps...\n",
      "E = 0.4119843720527\n",
      "0:00:36.181774\n",
      "Initial sweeps...\n",
      "E = 0.7658856693623\n",
      "0:00:35.285965\n",
      "Initial sweeps...\n",
      "E = 1.1190217260989\n",
      "0:00:32.513233\n",
      "Initial sweeps...\n",
      "E = 1.4713709553556\n",
      "0:00:32.901950\n",
      "Initial sweeps...\n",
      "E = 1.8229107016486\n",
      "0:00:32.482946\n",
      "Initial sweeps...\n",
      "E = 2.1736171662276\n",
      "0:00:32.576716\n",
      "Initial sweeps...\n",
      "E = 2.5234653316776\n",
      "0:00:32.557336\n",
      "Initial sweeps...\n",
      "E = 2.8724288778859\n",
      "0:00:32.630841\n",
      "Initial sweeps...\n",
      "E = 3.2204800904312\n",
      "0:00:32.562882\n",
      "Initial sweeps...\n",
      "E = 3.5675897606866\n",
      "0:00:32.616544\n",
      "Initial sweeps...\n",
      "E = 3.9137270789963\n",
      "0:00:32.415612\n",
      "Initial sweeps...\n",
      "E = 4.2588595033188\n",
      "0:00:32.495157\n",
      "Initial sweeps...\n",
      "E = 4.6029526503319\n",
      "0:00:32.325533\n",
      "Initial sweeps...\n",
      "E = 4.9459701347927\n",
      "0:00:32.479920\n",
      "Initial sweeps...\n",
      "E = 5.2878734163018\n",
      "0:00:32.270421\n",
      "Initial sweeps...\n",
      "E = 5.6286216250363\n",
      "0:00:32.262943\n",
      "Initial sweeps...\n",
      "E = 5.9681713691372\n",
      "0:00:32.163069\n",
      "Initial sweeps...\n",
      "E = 6.3064765262177\n",
      "0:00:32.039227\n",
      "Initial sweeps...\n",
      "E = 6.6434879790931\n",
      "0:00:32.099658\n",
      "Initial sweeps...\n",
      "E = 6.9791534068839\n",
      "0:00:32.108007\n",
      "Initial sweeps...\n",
      "E = 7.3134169454724\n",
      "0:00:32.134986\n",
      "Initial sweeps...\n",
      "E = 7.6462188706989\n",
      "0:00:32.240202\n",
      "Initial sweeps...\n",
      "E = 7.9774952272915\n",
      "0:00:32.401135\n",
      "Initial sweeps...\n",
      "E = 8.3071774100441\n",
      "0:00:32.260842\n",
      "Initial sweeps...\n",
      "E = 8.6351916891429\n",
      "0:00:32.219576\n",
      "Initial sweeps...\n",
      "E = 8.9614586697557\n",
      "0:00:32.228402\n",
      "Initial sweeps...\n",
      "E = 9.2858926737046\n",
      "0:00:32.208283\n",
      "Initial sweeps...\n",
      "E = 9.6084010280864\n",
      "0:00:32.129557\n",
      "Initial sweeps...\n",
      "E = 9.9288832417793\n",
      "0:00:40.210551\n",
      "Initial sweeps...\n",
      "E = 10.2472300457705\n",
      "0:00:40.342089\n",
      "Initial sweeps...\n",
      "E = 10.5633222656905\n",
      "0:00:40.330064\n",
      "Initial sweeps...\n",
      "E = 10.8770294853767\n",
      "0:00:40.583903\n",
      "Initial sweeps...\n",
      "E = 11.1882084454388\n",
      "0:00:40.284289\n",
      "Initial sweeps...\n",
      "E = 11.4967011006182\n",
      "0:00:40.322074\n",
      "Initial sweeps...\n",
      "E = 11.8023318090155\n",
      "0:00:40.733897\n",
      "Initial sweeps...\n",
      "E = 12.1049056780511\n",
      "0:00:40.767916\n",
      "Initial sweeps...\n",
      "E = 12.4042056044405\n",
      "0:00:40.539557\n",
      "Initial sweeps...\n",
      "E = 12.6999778810125\n",
      "0:00:40.775343\n",
      "Initial sweeps...\n",
      "E = 12.9919399282009\n",
      "0:00:40.711035\n",
      "Initial sweeps...\n",
      "E = 13.2797607468703\n",
      "0:00:49.116807\n",
      "Initial sweeps...\n",
      "E = 13.5630521802420\n",
      "0:00:50.254360\n",
      "Initial sweeps...\n"
     ]
    },
    {
     "name": "stderr",
     "output_type": "stream",
     "text": [
      "/home/kkottmann/TeNPy/tenpy/algorithms/dmrg.py:418: UserWarning: final DMRG state not in canonical form within `norm_tol` = 1.00e-05\n",
      "  warnings.warn(msg.format(nt=norm_tol))\n"
     ]
    },
    {
     "name": "stdout",
     "output_type": "stream",
     "text": [
      "E = 13.8414568496357\n",
      "0:00:51.368895\n",
      "Initial sweeps...\n"
     ]
    },
    {
     "name": "stderr",
     "output_type": "stream",
     "text": [
      "/home/kkottmann/TeNPy/tenpy/algorithms/dmrg.py:418: UserWarning: final DMRG state not in canonical form within `norm_tol` = 1.00e-05\n",
      "  warnings.warn(msg.format(nt=norm_tol))\n"
     ]
    },
    {
     "name": "stdout",
     "output_type": "stream",
     "text": [
      "E = 14.1141439818711\n",
      "0:03:33.339221\n",
      "Initial sweeps...\n",
      "E = 14.3803194854343\n",
      "0:01:25.607169\n",
      "Initial sweeps...\n",
      "E = 14.6396359668914\n",
      "0:01:03.999490\n",
      "Initial sweeps...\n",
      "E = 14.8916018687897\n",
      "0:00:52.268760\n",
      "Initial sweeps...\n",
      "E = 15.1355689532778\n",
      "0:00:39.697976\n",
      "Initial sweeps...\n",
      "E = 15.3708079693096\n",
      "0:00:39.168365\n",
      "Initial sweeps...\n",
      "E = 15.5964847893283\n",
      "0:00:39.074476\n",
      "Initial sweeps...\n",
      "E = 15.8116041591080\n",
      "0:00:38.367786\n",
      "Initial sweeps...\n",
      "E = 16.0149094895726\n",
      "0:00:37.940687\n",
      "Initial sweeps...\n",
      "E = 16.2046641902432\n",
      "0:00:38.306033\n",
      "Initial sweeps...\n"
     ]
    },
    {
     "name": "stderr",
     "output_type": "stream",
     "text": [
      "/home/kkottmann/TeNPy/tenpy/algorithms/dmrg.py:418: UserWarning: final DMRG state not in canonical form within `norm_tol` = 1.00e-05\n",
      "  warnings.warn(msg.format(nt=norm_tol))\n"
     ]
    },
    {
     "name": "stdout",
     "output_type": "stream",
     "text": [
      "E = 16.3779765275217\n",
      "0:01:14.997556\n",
      "Initial sweeps...\n",
      "E = 16.5276995780174\n",
      "0:00:38.334427\n",
      "Initial sweeps...\n",
      "E = 16.6584050291836\n",
      "0:00:30.053438\n",
      "Initial sweeps...\n",
      "E = 16.7762915749048\n",
      "0:00:30.096485\n",
      "Initial sweeps...\n",
      "E = 16.8840396524024\n",
      "0:00:29.250026\n",
      "Initial sweeps...\n",
      "E = 16.9833615341109\n",
      "0:00:28.327332\n",
      "Initial sweeps...\n",
      "E = 17.0754849104977\n",
      "0:00:27.916836\n",
      "Initial sweeps...\n",
      "E = 17.1613458581636\n",
      "0:00:27.783631\n",
      "Initial sweeps...\n",
      "E = 17.2416866916748\n",
      "0:00:27.429216\n",
      "Initial sweeps...\n",
      "E = 17.3171125327822\n",
      "0:00:26.709410\n",
      "Initial sweeps...\n",
      "E = 17.3881269109902\n",
      "0:00:26.267797\n",
      "Initial sweeps...\n",
      "E = 17.4551555719907\n",
      "0:00:25.514407\n",
      "Initial sweeps...\n",
      "E = 17.5185631397365\n",
      "0:00:23.726485\n",
      "Initial sweeps...\n",
      "E = 17.5786652018353\n",
      "0:00:23.188639\n",
      "Initial sweeps...\n",
      "E = 17.6357373309060\n",
      "0:00:22.038258\n",
      "Initial sweeps...\n",
      "E = 17.6900219795173\n",
      "0:00:21.150542\n",
      "Initial sweeps...\n",
      "E = 17.7417338558647\n",
      "0:00:19.984206\n",
      "Initial sweeps...\n",
      "E = 17.7910641857573\n",
      "0:00:19.422693\n",
      "Initial sweeps...\n",
      "E = 17.8381841410737\n",
      "0:00:18.674031\n",
      "Initial sweeps...\n",
      "E = 17.8832476326119\n",
      "0:00:18.125587\n",
      "Initial sweeps...\n",
      "E = 17.9263936104192\n",
      "0:00:18.004304\n",
      "Initial sweeps...\n",
      "E = 17.9677479770330\n",
      "0:00:17.745959\n",
      "Initial sweeps...\n",
      "E = 18.0074251926463\n",
      "0:00:17.150884\n",
      "Initial sweeps...\n",
      "E = 18.0455296323216\n",
      "0:00:16.912651\n",
      "Initial sweeps...\n",
      "E = 18.0821567416232\n",
      "0:00:16.977136\n",
      "Initial sweeps...\n",
      "E = 18.1173940268716\n",
      "0:00:16.811893\n",
      "Initial sweeps...\n",
      "E = 18.1513219086040\n",
      "0:00:16.539365\n",
      "Initial sweeps...\n",
      "E = 18.1840144610205\n",
      "0:00:16.006967\n",
      "Initial sweeps...\n",
      "E = 18.2155400557695\n",
      "0:00:15.782943\n",
      "Initial sweeps...\n",
      "E = 18.2459619249456\n",
      "0:00:15.776149\n"
     ]
    }
   ],
   "source": [
    "datas = []\n",
    "for V in Vs:\n",
    "    datas.append(hubbard_dmrg(L=8,U=5.,V=V,chi_max=64,bc=\"infinite\"))\n",
    "datas = np.array(datas)"
   ]
  },
  {
   "cell_type": "code",
   "execution_count": 6,
   "metadata": {},
   "outputs": [
    {
     "data": {
      "text/plain": [
       "[<matplotlib.lines.Line2D at 0x7f7984b8cef0>,\n",
       " <matplotlib.lines.Line2D at 0x7f7984b68a90>,\n",
       " <matplotlib.lines.Line2D at 0x7f791af58dd8>,\n",
       " <matplotlib.lines.Line2D at 0x7f791af582b0>,\n",
       " <matplotlib.lines.Line2D at 0x7f791af585c0>,\n",
       " <matplotlib.lines.Line2D at 0x7f791af58630>,\n",
       " <matplotlib.lines.Line2D at 0x7f791af58cf8>,\n",
       " <matplotlib.lines.Line2D at 0x7f791af58240>]"
      ]
     },
     "execution_count": 6,
     "metadata": {},
     "output_type": "execute_result"
    },
    {
     "data": {
      "image/png": "[encoded data removed]",
      "text/plain": [
       "<Figure size 576x360 with 1 Axes>"
      ]
     },
     "metadata": {
      "needs_background": "light"
     },
     "output_type": "display_data"
    }
   ],
   "source": [
    "ent = np.array([psi.entanglement_entropy() for psi in datas[:,0]])\n",
    "fig,ax = plt.subplots(figsize=(8,5))\n",
    "ax.plot(Vs,ent)"
   ]
  },
  {
   "cell_type": "code",
   "execution_count": 7,
   "metadata": {},
   "outputs": [
    {
     "data": {
      "text/plain": [
       "(100, 64, 1)"
      ]
     },
     "execution_count": 7,
     "metadata": {},
     "output_type": "execute_result"
    }
   ],
   "source": [
    "x_test = np.array([psi.entanglement_spectrum(by_charge=False)[int(psi.L/2)-1] for psi in datas[:,0]])\n",
    "x_test = np.sqrt(np.exp(-1*x_test)) # Go from entanglement_spectrum to singular values l_v^2 = exp(-s_v)\n",
    "x_test = x_test.reshape(*x_test.shape,1) # Need extra \"color\" channel (though trivial) for tensorflow later\n",
    "x_test.shape"
   ]
  },
  {
   "cell_type": "markdown",
   "metadata": {},
   "source": [
    "# Define CNN"
   ]
  },
  {
   "cell_type": "code",
   "execution_count": 8,
   "metadata": {},
   "outputs": [],
   "source": [
    "def scc_cnn1D(loss,optimizer,activation0,activation,x_shape):\n",
    "    in_dim = x_shape\n",
    "    input_img = Input(shape=in_dim)\n",
    "   \n",
    "    x1 = Conv1D(64, 3, activation=activation0, padding='same')(input_img) # 100 100 64\n",
    "    x2 = MaxPooling1D(2, padding='same')(x1) # 50 50 64\n",
    "    x2 = Conv1D(64, 3, activation=activation0, padding='same')(x2) # 50 50 128\n",
    "    x3 = MaxPooling1D(2, padding='same')(x2) # 25 25 128\n",
    "    encoded = Conv1D(64, 3, activation=activation0, padding='same')(x3) # 25 25 128\n",
    "\n",
    "    y=UpSampling1D(2)(encoded) # 50 50 128\n",
    "    y=add([x2,y]) # 50 50 128\n",
    "    y=Conv1D(64, 3, activation=activation0, padding='same')(y) # 50 50 128\n",
    "    y=UpSampling1D(2)(y) # 100 100 128\n",
    "    y=add([x1,y]) # 100 100 128\n",
    "    decoded = Conv1D(x_shape[-1], 3, activation=activation, padding='same')(y) # 100 100 4\n",
    "\n",
    "    cnn = Model(input_img, decoded)\n",
    "\n",
    "    cnn.compile(loss=loss,optimizer=optimizer)#,metrics=['accuracy']) #adadelta\n",
    "    return cnn"
   ]
  },
  {
   "cell_type": "code",
   "execution_count": 9,
   "metadata": {},
   "outputs": [
    {
     "name": "stdout",
     "output_type": "stream",
     "text": [
      "__________________________________________________________________________________________________\n",
      "Layer (type)                    Output Shape         Param #     Connected to                     \n",
      "==================================================================================================\n",
      "input_1 (InputLayer)            (None, 48, 1)        0                                            \n",
      "__________________________________________________________________________________________________\n",
      "conv1d (Conv1D)                 (None, 48, 64)       256         input_1[0][0]                    \n",
      "__________________________________________________________________________________________________\n",
      "max_pooling1d (MaxPooling1D)    (None, 24, 64)       0           conv1d[0][0]                     \n",
      "__________________________________________________________________________________________________\n",
      "conv1d_1 (Conv1D)               (None, 24, 64)       12352       max_pooling1d[0][0]              \n",
      "__________________________________________________________________________________________________\n",
      "max_pooling1d_1 (MaxPooling1D)  (None, 12, 64)       0           conv1d_1[0][0]                   \n",
      "__________________________________________________________________________________________________\n",
      "conv1d_2 (Conv1D)               (None, 12, 64)       12352       max_pooling1d_1[0][0]            \n",
      "__________________________________________________________________________________________________\n",
      "up_sampling1d (UpSampling1D)    (None, 24, 64)       0           conv1d_2[0][0]                   \n",
      "__________________________________________________________________________________________________\n",
      "add (Add)                       (None, 24, 64)       0           conv1d_1[0][0]                   \n",
      "                                                                 up_sampling1d[0][0]              \n",
      "__________________________________________________________________________________________________\n",
      "conv1d_3 (Conv1D)               (None, 24, 64)       12352       add[0][0]                        \n",
      "__________________________________________________________________________________________________\n",
      "up_sampling1d_1 (UpSampling1D)  (None, 48, 64)       0           conv1d_3[0][0]                   \n",
      "__________________________________________________________________________________________________\n",
      "add_1 (Add)                     (None, 48, 64)       0           conv1d[0][0]                     \n",
      "                                                                 up_sampling1d_1[0][0]            \n",
      "__________________________________________________________________________________________________\n",
      "conv1d_4 (Conv1D)               (None, 48, 1)        193         add_1[0][0]                      \n",
      "==================================================================================================\n",
      "Total params: 37,505\n",
      "Trainable params: 37,505\n",
      "Non-trainable params: 0\n",
      "__________________________________________________________________________________________________\n"
     ]
    }
   ],
   "source": [
    "cnn = scc_cnn1D(\"mse\",\"adam\",\"relu\",\"relu\",(48,1,))\n",
    "cnn.summary()"
   ]
  },
  {
   "cell_type": "markdown",
   "metadata": {},
   "source": [
    "# Training\n",
    "pick data points from test set for training"
   ]
  },
  {
   "cell_type": "code",
   "execution_count": 10,
   "metadata": {},
   "outputs": [],
   "source": [
    "Vs_train = Vs[np.where(Vs<2)]"
   ]
  },
  {
   "cell_type": "code",
   "execution_count": 11,
   "metadata": {},
   "outputs": [
    {
     "data": {
      "text/plain": [
       "(40, 64, 1)"
      ]
     },
     "execution_count": 11,
     "metadata": {},
     "output_type": "execute_result"
    }
   ],
   "source": [
    "x_train = x_test[np.where(Vs<2)]\n",
    "x_train.shape"
   ]
  },
  {
   "cell_type": "code",
   "execution_count": 12,
   "metadata": {},
   "outputs": [],
   "source": [
    "def train_loss2(y_true,y_pred):\n",
    "    return tf.keras.backend.sqrt(tf.keras.backend.sum((y_true - y_pred)**2))"
   ]
  },
  {
   "cell_type": "code",
   "execution_count": 13,
   "metadata": {},
   "outputs": [
    {
     "name": "stdout",
     "output_type": "stream",
     "text": [
      "Train on 40 samples, validate on 40 samples\n",
      "Epoch 1/40\n",
      "40/40 [==============================] - 2s 48ms/step - loss: 3.5427 - val_loss: 3.1346\n",
      "Epoch 2/40\n",
      "40/40 [==============================] - 0s 1ms/step - loss: 3.0493 - val_loss: 2.6947\n",
      "Epoch 3/40\n",
      "40/40 [==============================] - 0s 1ms/step - loss: 2.6184 - val_loss: 2.2948\n",
      "Epoch 4/40\n",
      "40/40 [==============================] - 0s 1ms/step - loss: 2.2272 - val_loss: 1.9555\n",
      "Epoch 5/40\n",
      "40/40 [==============================] - 0s 1ms/step - loss: 1.8989 - val_loss: 1.6638\n",
      "Epoch 6/40\n",
      "40/40 [==============================] - 0s 1ms/step - loss: 1.6111 - val_loss: 1.3863\n",
      "Epoch 7/40\n",
      "40/40 [==============================] - 0s 1ms/step - loss: 1.3280 - val_loss: 1.0971\n",
      "Epoch 8/40\n",
      "40/40 [==============================] - 0s 1ms/step - loss: 1.0482 - val_loss: 0.8824\n",
      "Epoch 9/40\n",
      "40/40 [==============================] - 0s 1ms/step - loss: 0.8566 - val_loss: 0.7449\n",
      "Epoch 10/40\n",
      "40/40 [==============================] - 0s 1ms/step - loss: 0.7210 - val_loss: 0.6243\n",
      "Epoch 11/40\n",
      "40/40 [==============================] - 0s 1ms/step - loss: 0.6102 - val_loss: 0.5730\n",
      "Epoch 12/40\n",
      "40/40 [==============================] - 0s 1ms/step - loss: 0.5623 - val_loss: 0.4942\n",
      "Epoch 13/40\n",
      "40/40 [==============================] - 0s 1ms/step - loss: 0.4732 - val_loss: 0.4031\n",
      "Epoch 14/40\n",
      "40/40 [==============================] - 0s 1ms/step - loss: 0.3893 - val_loss: 0.3486\n",
      "Epoch 15/40\n",
      "40/40 [==============================] - 0s 1ms/step - loss: 0.3559 - val_loss: 0.3272\n",
      "Epoch 16/40\n",
      "40/40 [==============================] - 0s 1ms/step - loss: 0.3118 - val_loss: 0.2577\n",
      "Epoch 17/40\n",
      "40/40 [==============================] - 0s 1ms/step - loss: 0.2682 - val_loss: 0.2317\n",
      "Epoch 18/40\n",
      "40/40 [==============================] - 0s 1ms/step - loss: 0.2234 - val_loss: 0.2180\n",
      "Epoch 19/40\n",
      "40/40 [==============================] - 0s 1ms/step - loss: 0.2237 - val_loss: 0.1889\n",
      "Epoch 20/40\n",
      "40/40 [==============================] - 0s 1ms/step - loss: 0.1827 - val_loss: 0.1695\n",
      "Epoch 21/40\n",
      "40/40 [==============================] - 0s 1ms/step - loss: 0.1860 - val_loss: 0.1565\n",
      "Epoch 22/40\n",
      "40/40 [==============================] - 0s 1ms/step - loss: 0.1508 - val_loss: 0.1256\n",
      "Epoch 23/40\n",
      "40/40 [==============================] - 0s 1ms/step - loss: 0.1317 - val_loss: 0.1472\n",
      "Epoch 24/40\n",
      "40/40 [==============================] - 0s 1ms/step - loss: 0.1573 - val_loss: 0.1004\n",
      "Epoch 25/40\n",
      "40/40 [==============================] - 0s 1ms/step - loss: 0.1274 - val_loss: 0.1025\n",
      "Epoch 26/40\n",
      "40/40 [==============================] - 0s 1ms/step - loss: 0.1020 - val_loss: 0.1552\n",
      "Epoch 27/40\n",
      "40/40 [==============================] - 0s 1ms/step - loss: 0.1411 - val_loss: 0.0834\n",
      "Epoch 28/40\n",
      "40/40 [==============================] - 0s 1ms/step - loss: 0.0943 - val_loss: 0.1097\n",
      "Epoch 29/40\n",
      "40/40 [==============================] - 0s 1ms/step - loss: 0.1074 - val_loss: 0.0829\n",
      "Epoch 30/40\n",
      "40/40 [==============================] - 0s 1ms/step - loss: 0.0845 - val_loss: 0.0815\n",
      "Epoch 31/40\n",
      "40/40 [==============================] - 0s 1ms/step - loss: 0.1037 - val_loss: 0.0946\n",
      "Epoch 32/40\n",
      "40/40 [==============================] - 0s 1ms/step - loss: 0.1073 - val_loss: 0.1348\n",
      "Epoch 33/40\n",
      "40/40 [==============================] - 0s 1ms/step - loss: 0.1148 - val_loss: 0.1479\n",
      "Epoch 34/40\n",
      "40/40 [==============================] - 0s 1ms/step - loss: 0.1274 - val_loss: 0.1031\n",
      "Epoch 35/40\n",
      "40/40 [==============================] - 0s 1ms/step - loss: 0.1104 - val_loss: 0.0764\n",
      "Epoch 36/40\n",
      "40/40 [==============================] - 0s 1ms/step - loss: 0.0805 - val_loss: 0.0677\n",
      "Epoch 37/40\n",
      "40/40 [==============================] - 0s 1ms/step - loss: 0.0720 - val_loss: 0.0789\n",
      "Epoch 38/40\n",
      "40/40 [==============================] - 0s 1ms/step - loss: 0.0864 - val_loss: 0.0757\n",
      "Epoch 39/40\n",
      "40/40 [==============================] - 0s 1ms/step - loss: 0.0751 - val_loss: 0.0677\n",
      "Epoch 40/40\n",
      "40/40 [==============================] - 0s 1ms/step - loss: 0.0729 - val_loss: 0.0838\n"
     ]
    },
    {
     "data": {
      "image/png": "[encoded data removed]",
      "text/plain": [
       "<Figure size 432x288 with 1 Axes>"
      ]
     },
     "metadata": {
      "needs_background": "light"
     },
     "output_type": "display_data"
    }
   ],
   "source": [
    "cnn0 = training(x_train, scc_cnn1D, name = \"\", provide_cnn = False,\n",
    "             load_prev = False, num_epochs = 40,  verbose_val = 1, batch_size = 24, shuffle = True, early = False,\n",
    "             loss = train_loss2, activation0 = 'relu', activation = 'tanh', optimizer = \"adam\")"
   ]
  },
  {
   "cell_type": "code",
   "execution_count": 14,
   "metadata": {},
   "outputs": [],
   "source": [
    "xi = np.array([psi.correlation_length() for psi in datas[:,0]])"
   ]
  },
  {
   "cell_type": "code",
   "execution_count": 15,
   "metadata": {},
   "outputs": [
    {
     "data": {
      "text/plain": [
       "<matplotlib.legend.Legend at 0x7f791809c470>"
      ]
     },
     "execution_count": 15,
     "metadata": {},
     "output_type": "execute_result"
    },
    {
     "data": {
      "image/png": "[encoded data removed]",
      "text/plain": [
       "<Figure size 576x360 with 1 Axes>"
      ]
     },
     "metadata": {
      "needs_background": "light"
     },
     "output_type": "display_data"
    }
   ],
   "source": [
    "out = 100*eval_loss(x_test,cnn0.predict(x_test),norm=norm2)\n",
    "\n",
    "fig,ax = plt.subplots(figsize=(8,5))\n",
    "ax.plot(Vs,np.max(out)*xi/xi.max(),\"x--\",label=\"entanglement entropy\") # normalized to loss output\n",
    "ax.plot(Vs,out,\"x--\",label=\"out [%]\")\n",
    "ax.plot(Vs_train,out[np.where(Vs<2)]/np.max(out),\"x\",label=\"train data\")\n",
    "ax.legend()"
   ]
  },
  {
   "cell_type": "code",
   "execution_count": null,
   "metadata": {},
   "outputs": [],
   "source": []
  }
 ],
 "metadata": {
  "kernelspec": {
   "display_name": "Python 3",
   "language": "python",
   "name": "python3"
  },
  "language_info": {
   "codemirror_mode": {
    "name": "ipython",
    "version": 3
   },
   "file_extension": ".py",
   "mimetype": "text/x-python",
   "name": "python",
   "nbconvert_exporter": "python",
   "pygments_lexer": "ipython3",
   "version": "3.6.9"
  }
 },
 "nbformat": 4,
 "nbformat_minor": 4
}
